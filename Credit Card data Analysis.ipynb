{
 "cells": [
  {
   "cell_type": "markdown",
   "id": "15570f3e",
   "metadata": {},
   "source": [
    "# Data Description: \n",
    "The file Credit Card.csv contains data on 50000 customers. The data include customer demographic information (age, income,Credit Cards etc.). Among these 50000 customers, only 41891 (82.8%) accepted the credit card that was offered to them in the earlier campaign."
   ]
  },
  {
   "cell_type": "code",
   "execution_count": 1,
   "id": "16182faa",
   "metadata": {},
   "outputs": [],
   "source": [
    "import numpy as np\n",
    "import pandas as pd\n",
    "import seaborn as sns\n",
    "import matplotlib.pyplot as plt"
   ]
  },
  {
   "cell_type": "markdown",
   "id": "a677308c",
   "metadata": {},
   "source": [
    "# Aim"
   ]
  },
  {
   "cell_type": "markdown",
   "id": "4d11d284",
   "metadata": {},
   "source": [
    "* Finding the costomers ..!\n",
    "* Credit History : Eligibility can be determined by evaluating credit history of credit cards users. That means it can be done by looking at credit usage. This includes factore such as peyment history,credit cards activity , etc..\n",
    "* We have people wondering who is a good card using and can we give them cards or not.\n"
   ]
  },
  {
   "cell_type": "markdown",
   "id": "66e0e196",
   "metadata": {},
   "source": [
    "# Data Collection and Cleaning :"
   ]
  },
  {
   "cell_type": "code",
   "execution_count": 3,
   "id": "cce59068",
   "metadata": {},
   "outputs": [
    {
     "name": "stderr",
     "output_type": "stream",
     "text": [
      "C:\\Users\\Saurav\\AppData\\Local\\Temp\\ipykernel_13396\\1506723174.py:1: DtypeWarning: Columns (18) have mixed types. Specify dtype option on import or set low_memory=False.\n",
      "  p1 = pd.read_csv(\"D:/Project 1/Creadit Cart Dataset 1.csv\")\n"
     ]
    }
   ],
   "source": [
    "p1 = pd.read_csv(\"D:/Project 1/Creadit Cart Dataset 1.csv\")"
   ]
  },
  {
   "cell_type": "code",
   "execution_count": 4,
   "id": "cf982eb8",
   "metadata": {},
   "outputs": [
    {
     "data": {
      "text/plain": [
       "(49984, 25)"
      ]
     },
     "execution_count": 4,
     "metadata": {},
     "output_type": "execute_result"
    }
   ],
   "source": [
    "p1.shape"
   ]
  },
  {
   "cell_type": "code",
   "execution_count": 5,
   "id": "9fa2c2eb",
   "metadata": {},
   "outputs": [],
   "source": [
    "p1.columns = ('Month','Name','Age','Not REQ','Work','Annual Income','Inhand Salary($)','Bank Accounts','Credit Cards','Interest Rate($)','Loan($)','Loan Type','Due Date','Delayed Peyment','Changed Credit Limit','Inquiries','Behaviour','Debt','Not REQ','Years Of Use','Not REQ','EMI(M)','Invested(M)','Not REQ','Avai Balance($)')"
   ]
  },
  {
   "cell_type": "code",
   "execution_count": 6,
   "id": "8a285330",
   "metadata": {},
   "outputs": [],
   "source": [
    "p1.drop(columns=['Loan Type','Delayed Peyment','EMI(M)','Years Of Use','Changed Credit Limit','Not REQ','Not REQ','Not REQ','Not REQ','Annual Income','Inquiries','Due Date' ],inplace=True)"
   ]
  },
  {
   "cell_type": "code",
   "execution_count": 14,
   "id": "0f3f0954",
   "metadata": {},
   "outputs": [
    {
     "data": {
      "text/html": [
       "<div>\n",
       "<style scoped>\n",
       "    .dataframe tbody tr th:only-of-type {\n",
       "        vertical-align: middle;\n",
       "    }\n",
       "\n",
       "    .dataframe tbody tr th {\n",
       "        vertical-align: top;\n",
       "    }\n",
       "\n",
       "    .dataframe thead th {\n",
       "        text-align: right;\n",
       "    }\n",
       "</style>\n",
       "<table border=\"1\" class=\"dataframe\">\n",
       "  <thead>\n",
       "    <tr style=\"text-align: right;\">\n",
       "      <th></th>\n",
       "      <th>Month</th>\n",
       "      <th>Name</th>\n",
       "      <th>Age</th>\n",
       "      <th>Work</th>\n",
       "      <th>Inhand Salary($)</th>\n",
       "      <th>Bank Accounts</th>\n",
       "      <th>Credit Cards</th>\n",
       "      <th>Interest Rate($)</th>\n",
       "      <th>Loan($)</th>\n",
       "      <th>Behaviour</th>\n",
       "      <th>Debt</th>\n",
       "      <th>Invested(M)</th>\n",
       "      <th>Avai Balance($)</th>\n",
       "    </tr>\n",
       "  </thead>\n",
       "  <tbody>\n",
       "    <tr>\n",
       "      <th>0</th>\n",
       "      <td>September</td>\n",
       "      <td>Aaron Maashoh</td>\n",
       "      <td>23.0</td>\n",
       "      <td>Scientist</td>\n",
       "      <td>1824.843333</td>\n",
       "      <td>3.0</td>\n",
       "      <td>4.0</td>\n",
       "      <td>3.0</td>\n",
       "      <td>4.0</td>\n",
       "      <td>Good</td>\n",
       "      <td>809.98</td>\n",
       "      <td>236.642682</td>\n",
       "      <td>186.266702</td>\n",
       "    </tr>\n",
       "    <tr>\n",
       "      <th>1</th>\n",
       "      <td>October</td>\n",
       "      <td>Aaron Maashoh</td>\n",
       "      <td>24.0</td>\n",
       "      <td>Scientist</td>\n",
       "      <td>1824.843333</td>\n",
       "      <td>3.0</td>\n",
       "      <td>4.0</td>\n",
       "      <td>3.0</td>\n",
       "      <td>4.0</td>\n",
       "      <td>Good</td>\n",
       "      <td>809.98</td>\n",
       "      <td>21.465380</td>\n",
       "      <td>361.444004</td>\n",
       "    </tr>\n",
       "    <tr>\n",
       "      <th>2</th>\n",
       "      <td>November</td>\n",
       "      <td>Aaron Maashoh</td>\n",
       "      <td>24.0</td>\n",
       "      <td>Scientist</td>\n",
       "      <td>1824.843333</td>\n",
       "      <td>3.0</td>\n",
       "      <td>4.0</td>\n",
       "      <td>3.0</td>\n",
       "      <td>4.0</td>\n",
       "      <td>Good</td>\n",
       "      <td>809.98</td>\n",
       "      <td>148.233938</td>\n",
       "      <td>264.675446</td>\n",
       "    </tr>\n",
       "    <tr>\n",
       "      <th>3</th>\n",
       "      <td>December</td>\n",
       "      <td>Aaron Maashoh</td>\n",
       "      <td>24.0</td>\n",
       "      <td>Scientist</td>\n",
       "      <td>NaN</td>\n",
       "      <td>3.0</td>\n",
       "      <td>4.0</td>\n",
       "      <td>3.0</td>\n",
       "      <td>4.0</td>\n",
       "      <td>Good</td>\n",
       "      <td>809.98</td>\n",
       "      <td>39.082511</td>\n",
       "      <td>343.826873</td>\n",
       "    </tr>\n",
       "    <tr>\n",
       "      <th>4</th>\n",
       "      <td>September</td>\n",
       "      <td>Rick Rothackerj</td>\n",
       "      <td>28.0</td>\n",
       "      <td>_______</td>\n",
       "      <td>3037.986667</td>\n",
       "      <td>2.0</td>\n",
       "      <td>4.0</td>\n",
       "      <td>6.0</td>\n",
       "      <td>1.0</td>\n",
       "      <td>Good</td>\n",
       "      <td>605.03</td>\n",
       "      <td>39.684018</td>\n",
       "      <td>485.298434</td>\n",
       "    </tr>\n",
       "  </tbody>\n",
       "</table>\n",
       "</div>"
      ],
      "text/plain": [
       "       Month             Name   Age       Work  Inhand Salary($)  \\\n",
       "0  September    Aaron Maashoh  23.0  Scientist       1824.843333   \n",
       "1    October    Aaron Maashoh  24.0  Scientist       1824.843333   \n",
       "2   November    Aaron Maashoh  24.0  Scientist       1824.843333   \n",
       "3   December    Aaron Maashoh  24.0  Scientist               NaN   \n",
       "4  September  Rick Rothackerj  28.0    _______       3037.986667   \n",
       "\n",
       "   Bank Accounts  Credit Cards  Interest Rate($)  Loan($) Behaviour    Debt  \\\n",
       "0            3.0           4.0               3.0      4.0      Good  809.98   \n",
       "1            3.0           4.0               3.0      4.0      Good  809.98   \n",
       "2            3.0           4.0               3.0      4.0      Good  809.98   \n",
       "3            3.0           4.0               3.0      4.0      Good  809.98   \n",
       "4            2.0           4.0               6.0      1.0      Good  605.03   \n",
       "\n",
       "   Invested(M)  Avai Balance($)  \n",
       "0   236.642682       186.266702  \n",
       "1    21.465380       361.444004  \n",
       "2   148.233938       264.675446  \n",
       "3    39.082511       343.826873  \n",
       "4    39.684018       485.298434  "
      ]
     },
     "execution_count": 14,
     "metadata": {},
     "output_type": "execute_result"
    }
   ],
   "source": [
    "p1.head()"
   ]
  },
  {
   "cell_type": "markdown",
   "id": "5927a368",
   "metadata": {},
   "source": [
    "# Check The Null Values ...!"
   ]
  },
  {
   "cell_type": "code",
   "execution_count": 15,
   "id": "8d259faa",
   "metadata": {},
   "outputs": [
    {
     "data": {
      "text/plain": [
       "Month                0.000000\n",
       "Name                10.025208\n",
       "Age                  0.256082\n",
       "Work                 0.000000\n",
       "Inhand Salary($)    15.056818\n",
       "Bank Accounts        0.074024\n",
       "Credit Cards         0.088028\n",
       "Interest Rate($)     0.124040\n",
       "Loan($)              0.076024\n",
       "Behaviour            0.096031\n",
       "Debt                 0.096031\n",
       "Invested(M)          9.112916\n",
       "Avai Balance($)      1.392446\n",
       "dtype: float64"
      ]
     },
     "execution_count": 15,
     "metadata": {},
     "output_type": "execute_result"
    }
   ],
   "source": [
    "p1.isnull().mean()*100"
   ]
  },
  {
   "cell_type": "code",
   "execution_count": 16,
   "id": "2e54edb8",
   "metadata": {},
   "outputs": [
    {
     "data": {
      "text/plain": [
       "10154"
      ]
     },
     "execution_count": 16,
     "metadata": {},
     "output_type": "execute_result"
    }
   ],
   "source": [
    "p1['Name'].nunique()"
   ]
  },
  {
   "cell_type": "code",
   "execution_count": 17,
   "id": "4b6ad6c2",
   "metadata": {},
   "outputs": [
    {
     "data": {
      "text/plain": [
       "0    ODonnell\n",
       "Name: Name, dtype: object"
      ]
     },
     "execution_count": 17,
     "metadata": {},
     "output_type": "execute_result"
    }
   ],
   "source": [
    "p1['Name'].mode()"
   ]
  },
  {
   "cell_type": "code",
   "execution_count": 18,
   "id": "79c59eb7",
   "metadata": {},
   "outputs": [],
   "source": [
    "p1['Name']=p1['Name'].fillna('ODonnell')"
   ]
  },
  {
   "cell_type": "markdown",
   "id": "491bca24",
   "metadata": {},
   "source": [
    "# Find The Outliers And Filled  Values In LF & HF ."
   ]
  },
  {
   "cell_type": "code",
   "execution_count": 19,
   "id": "807ea23a",
   "metadata": {},
   "outputs": [],
   "source": [
    "#Define A Outliers Form Dataset\n",
    "\n",
    "def outliers(df, column):\n",
    "    \n",
    "    q1 = df[column].quantile(0.25)\n",
    "    q3 = df[column].quantile(0.75)\n",
    "    iqr = q3 - q1\n",
    "    lower_fence = q1 - 1.5 * iqr\n",
    "    higher_fence = q3 + 1.5 * iqr\n",
    "    final_data = p1[(p1[column]>lower_fence) & (p1[column]<higher_fence)]\n",
    "    df = final_data.copy()\n",
    "    return lower_fence, higher_fence\n"
   ]
  },
  {
   "cell_type": "code",
   "execution_count": 20,
   "id": "cafb814a",
   "metadata": {},
   "outputs": [
    {
     "data": {
      "text/plain": [
       "(-2.0, 70.0)"
      ]
     },
     "execution_count": 20,
     "metadata": {},
     "output_type": "execute_result"
    }
   ],
   "source": [
    "outliers(p1,'Age')"
   ]
  },
  {
   "cell_type": "code",
   "execution_count": 21,
   "id": "03198cf9",
   "metadata": {},
   "outputs": [
    {
     "data": {
      "text/plain": [
       "(-4823.002381125, 12361.818967875)"
      ]
     },
     "execution_count": 21,
     "metadata": {},
     "output_type": "execute_result"
    }
   ],
   "source": [
    "outliers(p1,'Inhand Salary($)')"
   ]
  },
  {
   "cell_type": "code",
   "execution_count": 14,
   "id": "c04e1bcf",
   "metadata": {},
   "outputs": [
    {
     "data": {
      "text/plain": [
       "(-3.0, 13.0)"
      ]
     },
     "execution_count": 14,
     "metadata": {},
     "output_type": "execute_result"
    }
   ],
   "source": [
    "outliers(p1,'Bank Accounts')"
   ]
  },
  {
   "cell_type": "code",
   "execution_count": 22,
   "id": "48d89814",
   "metadata": {},
   "outputs": [
    {
     "data": {
      "text/plain": [
       "(-0.5, 11.5)"
      ]
     },
     "execution_count": 22,
     "metadata": {},
     "output_type": "execute_result"
    }
   ],
   "source": [
    "outliers(p1,'Credit Cards')"
   ]
  },
  {
   "cell_type": "code",
   "execution_count": 23,
   "id": "e8a53bb7",
   "metadata": {},
   "outputs": [
    {
     "data": {
      "text/plain": [
       "(-10.0, 38.0)"
      ]
     },
     "execution_count": 23,
     "metadata": {},
     "output_type": "execute_result"
    }
   ],
   "source": [
    "outliers(p1,'Interest Rate($)')"
   ]
  },
  {
   "cell_type": "code",
   "execution_count": 24,
   "id": "8575602f",
   "metadata": {},
   "outputs": [
    {
     "data": {
      "text/plain": [
       "(-5.0, 11.0)"
      ]
     },
     "execution_count": 24,
     "metadata": {},
     "output_type": "execute_result"
    }
   ],
   "source": [
    "outliers(p1,'Loan($)')"
   ]
  },
  {
   "cell_type": "code",
   "execution_count": 25,
   "id": "f6708095",
   "metadata": {},
   "outputs": [
    {
     "data": {
      "text/plain": [
       "(-1502.0700000000002, 4010.17)"
      ]
     },
     "execution_count": 25,
     "metadata": {},
     "output_type": "execute_result"
    }
   ],
   "source": [
    "outliers(p1,'Debt')"
   ]
  },
  {
   "cell_type": "code",
   "execution_count": 26,
   "id": "97ac3f25",
   "metadata": {},
   "outputs": [
    {
     "data": {
      "text/plain": [
       "(-174.855390675, 483.973601445)"
      ]
     },
     "execution_count": 26,
     "metadata": {},
     "output_type": "execute_result"
    }
   ],
   "source": [
    "outliers(p1,'Invested(M)')"
   ]
  },
  {
   "cell_type": "code",
   "execution_count": 27,
   "id": "9f793b1b",
   "metadata": {},
   "outputs": [],
   "source": [
    "def Out(p1):\n",
    "    column_name = input(\"Enter Your Col Name : \" )\n",
    "    min_value = float(input(\"Enter Your Min Value: \"))\n",
    "    max_value = float(input(\"Enter Your Max Value: \"))\n",
    "    p1.loc[(p1[column_name] >= max_value) | (p1[column_name] <= min_value)].shape\n",
    "    new_p1 = p1.loc[(p1[column_name] <= max_value) | (p1[column_name] >= min_value)]\n",
    "    new_p1.loc[new_p1[column_name]>max_value,column_name] = max_value\n",
    "    new_p1.loc[new_p1[column_name]<min_value,column_name] = min_value\n",
    "    p1= new_p1.copy()\n",
    "    return p1.shape"
   ]
  },
  {
   "cell_type": "code",
   "execution_count": 23,
   "id": "962f8f12",
   "metadata": {},
   "outputs": [
    {
     "name": "stdout",
     "output_type": "stream",
     "text": [
      "Enter Your Col Name : Age\n",
      "Enter Your Min Value: 18\n",
      "Enter Your Max Value: 30\n"
     ]
    },
    {
     "data": {
      "text/plain": [
       "(49856, 13)"
      ]
     },
     "execution_count": 23,
     "metadata": {},
     "output_type": "execute_result"
    }
   ],
   "source": [
    "Out(p1)"
   ]
  },
  {
   "cell_type": "code",
   "execution_count": 24,
   "id": "5187c2d6",
   "metadata": {},
   "outputs": [
    {
     "data": {
      "text/plain": [
       "-500.0"
      ]
     },
     "execution_count": 24,
     "metadata": {},
     "output_type": "execute_result"
    }
   ],
   "source": [
    "p1['Age'].min()"
   ]
  },
  {
   "cell_type": "code",
   "execution_count": 28,
   "id": "37de0619",
   "metadata": {},
   "outputs": [
    {
     "name": "stdout",
     "output_type": "stream",
     "text": [
      "new data :  49856\n",
      "old data :  49856\n",
      "(49856, 13)\n",
      "\n",
      "new data :  42373\n",
      "old data :  42373\n",
      "(42373, 13)\n",
      "\n",
      "new data :  42373\n",
      "old data :  42373\n",
      "(42373, 13)\n",
      "\n",
      "new data :  42373\n",
      "old data :  42373\n",
      "(42373, 13)\n",
      "\n",
      "new data :  42373\n",
      "old data :  42373\n",
      "(42373, 13)\n",
      "\n",
      "new data :  42373\n",
      "old data :  42373\n",
      "(42373, 13)\n",
      "\n",
      "new data :  41891\n",
      "old data :  41891\n",
      "(41891, 13)\n",
      "\n",
      "new data :  41891\n",
      "old data :  41891\n",
      "(41891, 13)\n",
      "\n",
      "new data :  38209\n",
      "old data :  38209\n",
      "(38209, 13)\n",
      "\n"
     ]
    }
   ],
   "source": [
    "#Find The Outliers and Then loc It From Age\n",
    "\n",
    "p1.loc[(p1['Age'] >= 60) | (p1['Age'] <= 18)].shape\n",
    "new_p1 = p1.loc[(p1['Age'] <= 60) | (p1['Age'] >= 18)]\n",
    "new_p1.loc[new_p1['Age']>60,'Age'] = 60\n",
    "new_p1.loc[new_p1['Age']<18,'Age'] = 18\n",
    "p1= new_p1.copy()\n",
    "print('new data : ',len(new_p1))\n",
    "print('old data : ',len(p1))\n",
    "print(p1.shape)\n",
    "print()\n",
    "\n",
    "#Find The Outliers and Then loc It From Inhand Salary(M)\n",
    "\n",
    "p1.loc[(p1['Inhand Salary($)'] >= 12381) | (p1['Inhand Salary($)'] <= 0)].shape\n",
    "new_p1 = p1.loc[(p1['Inhand Salary($)'] <= 12381) | (p1['Inhand Salary($)'] >= 0)]\n",
    "new_p1.loc[new_p1['Inhand Salary($)']>12381,'Inhand Salary($)'] = 12381\n",
    "new_p1.loc[new_p1['Inhand Salary($)']<0,'Inhand Salary($)'] = 0\n",
    "p1= new_p1.copy()\n",
    "print('new data : ',len(new_p1))\n",
    "print('old data : ',len(p1))\n",
    "print(p1.shape)\n",
    "print()\n",
    "\n",
    "#Find The Outliers and Then loc It From Bank Accounts\n",
    "\n",
    "p1.loc[(p1['Bank Accounts'] >= 13) | (p1['Bank Accounts'] <= 0)].shape\n",
    "new_p1 = p1.loc[(p1['Bank Accounts'] <= 13) | (p1['Bank Accounts'] >= 0)]\n",
    "new_p1.loc[new_p1['Bank Accounts']>13,'Bank Accounts'] = 13\n",
    "new_p1.loc[new_p1['Bank Accounts']<0,'Bank Accounts'] = 0\n",
    "p1= new_p1.copy()\n",
    "print('new data : ',len(new_p1))\n",
    "print('old data : ',len(p1))\n",
    "print(p1.shape)\n",
    "print()\n",
    "\n",
    "#Find The Outliers and Then loc It From Credit Cards\n",
    "\n",
    "p1.loc[(p1['Credit Cards'] >= 10) | (p1['Credit Cards'] <= 0)].shape\n",
    "new_p1 = p1.loc[(p1['Credit Cards'] <= 10) | (p1['Credit Cards'] >= 0)]\n",
    "new_p1.loc[new_p1['Credit Cards']>10,'Credit Cards'] = 10\n",
    "new_p1.loc[new_p1['Credit Cards']<0,'Credit Cards'] = 0\n",
    "p1= new_p1.copy()\n",
    "print('new data : ',len(new_p1))\n",
    "print('old data : ',len(p1))\n",
    "print(p1.shape)\n",
    "print()\n",
    "\n",
    "#Find The Outliers and Then loc It From Interest Rate\n",
    "\n",
    "p1.loc[(p1['Interest Rate($)'] >= 38) | (p1['Interest Rate($)'] <= 0)].shape\n",
    "new_p1 = p1.loc[(p1['Interest Rate($)'] <= 38) | (p1['Interest Rate($)'] >= 0)]\n",
    "new_p1.loc[new_p1['Interest Rate($)']>38,'Interest Rate($)'] = 38\n",
    "new_p1.loc[new_p1['Interest Rate($)']<0,'Interest Rate($)'] = 0\n",
    "p1= new_p1.copy()\n",
    "print('new data : ',len(new_p1))\n",
    "print('old data : ',len(p1))\n",
    "print(p1.shape)\n",
    "print()\n",
    "\n",
    "#Find The Outliers and Then loc It From Loan\n",
    "\n",
    "p1.loc[(p1['Loan($)'] >= 11) | (p1['Loan($)'] <= 0)].shape\n",
    "new_p1 = p1.loc[(p1['Loan($)'] <= 11) | (p1['Loan($)'] >= 0)]\n",
    "new_p1.loc[new_p1['Loan($)']>11,'Loan($)'] = 11\n",
    "new_p1.loc[new_p1['Loan($)']<0,'Loan($)'] = 0\n",
    "p1= new_p1.copy()\n",
    "print('new data : ',len(new_p1))\n",
    "print('old data : ',len(p1))\n",
    "print(p1.shape)\n",
    "print()\n",
    "\n",
    "#Find The Outliers and Then loc It From Avai Balance(M)\n",
    "\n",
    "p1.loc[(p1['Avai Balance($)'] >= 772.056851175) | (p1['Avai Balance($)'] <= 0)].shape\n",
    "new_p1 = p1.loc[(p1['Avai Balance($)'] <= 772.056851175) | (p1['Avai Balance($)'] >= 0)]\n",
    "new_p1.loc[new_p1['Avai Balance($)']>772.056851175,'Avai Balance($)'] = 772.056851175\n",
    "new_p1.loc[new_p1['Avai Balance($)']<0,'Avai Balance($)'] = 0\n",
    "p1= new_p1.copy()\n",
    "print('new data : ',len(new_p1))\n",
    "print('old data : ',len(p1))\n",
    "print(p1.shape)\n",
    "print()\n",
    "\n",
    "p1.loc[(p1['Debt'] >= 4010.17) | (p1['Debt'] <= 0)].shape\n",
    "new_p1 = p1.loc[(p1['Debt'] <= 4010.17) | (p1['Debt'] >= 0)]\n",
    "new_p1.loc[new_p1['Debt']>4010.17,'Debt'] = 4010.17\n",
    "new_p1.loc[new_p1['Debt']<0,'Debt'] = 0\n",
    "p1= new_p1.copy()\n",
    "print('new data : ',len(new_p1))\n",
    "print('old data : ',len(p1))\n",
    "print(p1.shape)\n",
    "print()\n",
    "\n",
    "p1.loc[(p1['Invested(M)'] >= 483.973601445) | (p1['Invested(M)'] <= 0)].shape\n",
    "new_p1 = p1.loc[(p1['Invested(M)'] <= 483.973601445) | (p1['Invested(M)'] >= 0)]\n",
    "new_p1.loc[new_p1['Invested(M)']>483.973601445,'Invested(M)'] = 483.973601445\n",
    "new_p1.loc[new_p1['Invested(M)']<0,'Invested(M)'] = 0\n",
    "p1= new_p1.copy()\n",
    "print('new data : ',len(new_p1))\n",
    "print('old data : ',len(p1))\n",
    "print(p1.shape)\n",
    "print()"
   ]
  },
  {
   "cell_type": "code",
   "execution_count": 29,
   "id": "e077e122",
   "metadata": {},
   "outputs": [
    {
     "data": {
      "text/plain": [
       "Month               0.0\n",
       "Name                0.0\n",
       "Age                 0.0\n",
       "Work                0.0\n",
       "Inhand Salary($)    0.0\n",
       "Bank Accounts       0.0\n",
       "Credit Cards        0.0\n",
       "Interest Rate($)    0.0\n",
       "Loan($)             0.0\n",
       "Behaviour           0.0\n",
       "Debt                0.0\n",
       "Invested(M)         0.0\n",
       "Avai Balance($)     0.0\n",
       "dtype: float64"
      ]
     },
     "execution_count": 29,
     "metadata": {},
     "output_type": "execute_result"
    }
   ],
   "source": [
    "p1.isnull().mean()*100"
   ]
  },
  {
   "cell_type": "code",
   "execution_count": 30,
   "id": "9ee4132d",
   "metadata": {},
   "outputs": [],
   "source": [
    "p1['Work'] = p1['Work'].str.replace('_______','Engineer')\n",
    "p1['Behaviour'] = p1['Behaviour'].str.replace('_','Good')\n",
    "p1['Work'] = p1['Work'].str.replace('Mechanic','Engineer')\n",
    "p1['Work'] = p1['Work'].str.replace('Media_Manager','Doctor')\n",
    "p1['Work'] = p1['Work'].str.replace('Musician','Doctor')\n",
    "p1['Work'] = p1['Work'].str.replace('Accountant','Scientist')\n",
    "p1['Work'] = p1['Work'].str.replace('Journalist','Engineer')\n",
    "p1['Work'] = p1['Work'].str.replace('Teacher','Manager')\n",
    "p1['Loan($)'] = p1['Loan($)'].replace(3.0,0.0)\n",
    "p1['Loan($)'] = p1['Loan($)'].replace(2.0,0.0)\n",
    "p1['Loan($)'] = p1['Loan($)'].replace(1.0,0.0)\n",
    "p1['Loan($)'] = p1['Loan($)'].replace(4.0,0.0)\n",
    "p1['Loan($)'] = p1['Loan($)'].replace(5.0,224.0)\n",
    "p1['Loan($)'] = p1['Loan($)'].replace(6.0,456.0)\n",
    "p1['Loan($)'] = p1['Loan($)'].replace(7.0,423.0)\n",
    "p1['Loan($)'] = p1['Loan($)'].replace(8.0,325.0)\n",
    "p1['Loan($)'] = p1['Loan($)'].replace(9.0,120.0)\n",
    "p1['Loan($)'] = p1['Loan($)'].replace(11.0,656.0)\n",
    "p1['Inhand Salary($)'] = p1['Inhand Salary($)'].replace(12381.000000,524.0)"
   ]
  },
  {
   "cell_type": "markdown",
   "id": "1a560aee",
   "metadata": {},
   "source": [
    "# Check The Data type Of Dataset...!"
   ]
  },
  {
   "cell_type": "code",
   "execution_count": 35,
   "id": "89b925e9",
   "metadata": {},
   "outputs": [],
   "source": [
    "# change data type\n",
    "p1['Age'] = p1['Age'].astype('int')\n",
    "p1['Inhand Salary($)'] = p1['Inhand Salary($)'].astype('int')\n",
    "p1['Bank Accounts'] = p1['Bank Accounts'].astype('int')\n",
    "p1['Credit Cards'] = p1['Credit Cards'].astype('int')\n",
    "p1['Interest Rate($)'] = p1['Interest Rate($)'].astype('int')\n",
    "p1['Loan($)'] = p1['Loan($)'].astype('int')\n",
    "p1['Debt'] = p1['Debt'].astype('int')\n",
    "p1['Invested(M)'] = p1['Invested(M)'].astype('int')\n",
    "p1['Avai Balance($)'] = p1['Avai Balance($)'].astype('int')"
   ]
  },
  {
   "cell_type": "code",
   "execution_count": 36,
   "id": "78a7652e",
   "metadata": {},
   "outputs": [
    {
     "data": {
      "text/plain": [
       "Month               object\n",
       "Name                object\n",
       "Age                  int32\n",
       "Work                object\n",
       "Inhand Salary($)     int32\n",
       "Bank Accounts        int32\n",
       "Credit Cards         int32\n",
       "Interest Rate($)     int32\n",
       "Loan($)              int32\n",
       "Behaviour           object\n",
       "Debt                 int32\n",
       "Invested(M)          int32\n",
       "Avai Balance($)      int32\n",
       "dtype: object"
      ]
     },
     "execution_count": 36,
     "metadata": {},
     "output_type": "execute_result"
    }
   ],
   "source": [
    "p1.dtypes"
   ]
  },
  {
   "cell_type": "markdown",
   "id": "995c0ceb",
   "metadata": {},
   "source": [
    "# Describe The Dataset...!"
   ]
  },
  {
   "cell_type": "code",
   "execution_count": 37,
   "id": "7344600a",
   "metadata": {},
   "outputs": [
    {
     "data": {
      "text/html": [
       "<div>\n",
       "<style scoped>\n",
       "    .dataframe tbody tr th:only-of-type {\n",
       "        vertical-align: middle;\n",
       "    }\n",
       "\n",
       "    .dataframe tbody tr th {\n",
       "        vertical-align: top;\n",
       "    }\n",
       "\n",
       "    .dataframe thead th {\n",
       "        text-align: right;\n",
       "    }\n",
       "</style>\n",
       "<table border=\"1\" class=\"dataframe\">\n",
       "  <thead>\n",
       "    <tr style=\"text-align: right;\">\n",
       "      <th></th>\n",
       "      <th>Age</th>\n",
       "      <th>Inhand Salary($)</th>\n",
       "      <th>Bank Accounts</th>\n",
       "      <th>Credit Cards</th>\n",
       "      <th>Interest Rate($)</th>\n",
       "      <th>Loan($)</th>\n",
       "      <th>Debt</th>\n",
       "      <th>Invested(M)</th>\n",
       "      <th>Avai Balance($)</th>\n",
       "    </tr>\n",
       "  </thead>\n",
       "  <tbody>\n",
       "    <tr>\n",
       "      <th>count</th>\n",
       "      <td>38209.000000</td>\n",
       "      <td>38209.000000</td>\n",
       "      <td>38209.000000</td>\n",
       "      <td>38209.000000</td>\n",
       "      <td>38209.000000</td>\n",
       "      <td>38209.000000</td>\n",
       "      <td>38209.000000</td>\n",
       "      <td>38209.000000</td>\n",
       "      <td>38209.000000</td>\n",
       "    </tr>\n",
       "    <tr>\n",
       "      <th>mean</th>\n",
       "      <td>34.344055</td>\n",
       "      <td>3884.441650</td>\n",
       "      <td>5.457091</td>\n",
       "      <td>5.630061</td>\n",
       "      <td>14.916800</td>\n",
       "      <td>99.888115</td>\n",
       "      <td>1392.426496</td>\n",
       "      <td>171.408778</td>\n",
       "      <td>389.158183</td>\n",
       "    </tr>\n",
       "    <tr>\n",
       "      <th>std</th>\n",
       "      <td>11.139776</td>\n",
       "      <td>2885.665349</td>\n",
       "      <td>2.720413</td>\n",
       "      <td>2.153706</td>\n",
       "      <td>9.238665</td>\n",
       "      <td>169.464092</td>\n",
       "      <td>1078.837848</td>\n",
       "      <td>133.820612</td>\n",
       "      <td>175.819521</td>\n",
       "    </tr>\n",
       "    <tr>\n",
       "      <th>min</th>\n",
       "      <td>18.000000</td>\n",
       "      <td>303.000000</td>\n",
       "      <td>0.000000</td>\n",
       "      <td>0.000000</td>\n",
       "      <td>1.000000</td>\n",
       "      <td>0.000000</td>\n",
       "      <td>0.000000</td>\n",
       "      <td>0.000000</td>\n",
       "      <td>0.000000</td>\n",
       "    </tr>\n",
       "    <tr>\n",
       "      <th>25%</th>\n",
       "      <td>25.000000</td>\n",
       "      <td>1554.000000</td>\n",
       "      <td>3.000000</td>\n",
       "      <td>4.000000</td>\n",
       "      <td>7.000000</td>\n",
       "      <td>0.000000</td>\n",
       "      <td>566.000000</td>\n",
       "      <td>71.000000</td>\n",
       "      <td>270.000000</td>\n",
       "    </tr>\n",
       "    <tr>\n",
       "      <th>50%</th>\n",
       "      <td>34.000000</td>\n",
       "      <td>2951.000000</td>\n",
       "      <td>6.000000</td>\n",
       "      <td>5.000000</td>\n",
       "      <td>13.000000</td>\n",
       "      <td>0.000000</td>\n",
       "      <td>1161.000000</td>\n",
       "      <td>127.000000</td>\n",
       "      <td>337.000000</td>\n",
       "    </tr>\n",
       "    <tr>\n",
       "      <th>75%</th>\n",
       "      <td>43.000000</td>\n",
       "      <td>5606.000000</td>\n",
       "      <td>7.000000</td>\n",
       "      <td>7.000000</td>\n",
       "      <td>20.000000</td>\n",
       "      <td>224.000000</td>\n",
       "      <td>1931.000000</td>\n",
       "      <td>230.000000</td>\n",
       "      <td>471.000000</td>\n",
       "    </tr>\n",
       "    <tr>\n",
       "      <th>max</th>\n",
       "      <td>60.000000</td>\n",
       "      <td>12378.000000</td>\n",
       "      <td>13.000000</td>\n",
       "      <td>10.000000</td>\n",
       "      <td>38.000000</td>\n",
       "      <td>656.000000</td>\n",
       "      <td>4010.000000</td>\n",
       "      <td>483.000000</td>\n",
       "      <td>772.000000</td>\n",
       "    </tr>\n",
       "  </tbody>\n",
       "</table>\n",
       "</div>"
      ],
      "text/plain": [
       "                Age  Inhand Salary($)  Bank Accounts  Credit Cards  \\\n",
       "count  38209.000000      38209.000000   38209.000000  38209.000000   \n",
       "mean      34.344055       3884.441650       5.457091      5.630061   \n",
       "std       11.139776       2885.665349       2.720413      2.153706   \n",
       "min       18.000000        303.000000       0.000000      0.000000   \n",
       "25%       25.000000       1554.000000       3.000000      4.000000   \n",
       "50%       34.000000       2951.000000       6.000000      5.000000   \n",
       "75%       43.000000       5606.000000       7.000000      7.000000   \n",
       "max       60.000000      12378.000000      13.000000     10.000000   \n",
       "\n",
       "       Interest Rate($)       Loan($)          Debt   Invested(M)  \\\n",
       "count      38209.000000  38209.000000  38209.000000  38209.000000   \n",
       "mean          14.916800     99.888115   1392.426496    171.408778   \n",
       "std            9.238665    169.464092   1078.837848    133.820612   \n",
       "min            1.000000      0.000000      0.000000      0.000000   \n",
       "25%            7.000000      0.000000    566.000000     71.000000   \n",
       "50%           13.000000      0.000000   1161.000000    127.000000   \n",
       "75%           20.000000    224.000000   1931.000000    230.000000   \n",
       "max           38.000000    656.000000   4010.000000    483.000000   \n",
       "\n",
       "       Avai Balance($)  \n",
       "count     38209.000000  \n",
       "mean        389.158183  \n",
       "std         175.819521  \n",
       "min           0.000000  \n",
       "25%         270.000000  \n",
       "50%         337.000000  \n",
       "75%         471.000000  \n",
       "max         772.000000  "
      ]
     },
     "execution_count": 37,
     "metadata": {},
     "output_type": "execute_result"
    }
   ],
   "source": [
    "p1.describe()"
   ]
  },
  {
   "cell_type": "code",
   "execution_count": 29,
   "id": "47eeabd3",
   "metadata": {},
   "outputs": [],
   "source": [
    "# Save to Excel file\n",
    "p1.to_excel('D:/Project 1/Final_Dataset_PP.xlsx', index=False)"
   ]
  },
  {
   "cell_type": "code",
   "execution_count": null,
   "id": "6322fd52",
   "metadata": {},
   "outputs": [],
   "source": []
  },
  {
   "cell_type": "markdown",
   "id": "c3970adf",
   "metadata": {},
   "source": [
    "# Exploratory Data Analysis (EDA):"
   ]
  },
  {
   "cell_type": "markdown",
   "id": "8ea575fa",
   "metadata": {},
   "source": [
    "# Age...!"
   ]
  },
  {
   "cell_type": "code",
   "execution_count": 39,
   "id": "a90574e4",
   "metadata": {},
   "outputs": [
    {
     "name": "stderr",
     "output_type": "stream",
     "text": [
      "C:\\Users\\Saurav\\anaconda3\\Lib\\site-packages\\seaborn\\_oldcore.py:1119: FutureWarning: use_inf_as_na option is deprecated and will be removed in a future version. Convert inf values to NaN before operating instead.\n",
      "  with pd.option_context('mode.use_inf_as_na', True):\n"
     ]
    },
    {
     "data": {
      "image/png": "[encoded data removed]",
      "text/plain": [
       "<Figure size 640x480 with 1 Axes>"
      ]
     },
     "metadata": {},
     "output_type": "display_data"
    }
   ],
   "source": [
    "ax = sns.histplot(p1['Age'],bins=4)\n",
    "\n",
    "for bars in ax.containers:\n",
    "    ax.bar_label(bars)"
   ]
  },
  {
   "cell_type": "code",
   "execution_count": 40,
   "id": "93dc3146",
   "metadata": {},
   "outputs": [
    {
     "data": {
      "text/html": [
       "<div>\n",
       "<style scoped>\n",
       "    .dataframe tbody tr th:only-of-type {\n",
       "        vertical-align: middle;\n",
       "    }\n",
       "\n",
       "    .dataframe tbody tr th {\n",
       "        vertical-align: top;\n",
       "    }\n",
       "\n",
       "    .dataframe thead th {\n",
       "        text-align: right;\n",
       "    }\n",
       "</style>\n",
       "<table border=\"1\" class=\"dataframe\">\n",
       "  <thead>\n",
       "    <tr style=\"text-align: right;\">\n",
       "      <th>Work</th>\n",
       "      <th>Architect</th>\n",
       "      <th>Developer</th>\n",
       "      <th>Doctor</th>\n",
       "      <th>Engineer</th>\n",
       "      <th>Entrepreneur</th>\n",
       "      <th>Lawyer</th>\n",
       "      <th>Manager</th>\n",
       "      <th>Scientist</th>\n",
       "      <th>Writer</th>\n",
       "    </tr>\n",
       "    <tr>\n",
       "      <th>Month</th>\n",
       "      <th></th>\n",
       "      <th></th>\n",
       "      <th></th>\n",
       "      <th></th>\n",
       "      <th></th>\n",
       "      <th></th>\n",
       "      <th></th>\n",
       "      <th></th>\n",
       "      <th></th>\n",
       "    </tr>\n",
       "  </thead>\n",
       "  <tbody>\n",
       "    <tr>\n",
       "      <th>December</th>\n",
       "      <td>578</td>\n",
       "      <td>543</td>\n",
       "      <td>1842</td>\n",
       "      <td>2861</td>\n",
       "      <td>537</td>\n",
       "      <td>539</td>\n",
       "      <td>1050</td>\n",
       "      <td>1111</td>\n",
       "      <td>514</td>\n",
       "    </tr>\n",
       "    <tr>\n",
       "      <th>November</th>\n",
       "      <td>566</td>\n",
       "      <td>526</td>\n",
       "      <td>1834</td>\n",
       "      <td>2842</td>\n",
       "      <td>532</td>\n",
       "      <td>578</td>\n",
       "      <td>1054</td>\n",
       "      <td>1095</td>\n",
       "      <td>501</td>\n",
       "    </tr>\n",
       "    <tr>\n",
       "      <th>October</th>\n",
       "      <td>564</td>\n",
       "      <td>553</td>\n",
       "      <td>1850</td>\n",
       "      <td>2807</td>\n",
       "      <td>524</td>\n",
       "      <td>551</td>\n",
       "      <td>1089</td>\n",
       "      <td>1102</td>\n",
       "      <td>516</td>\n",
       "    </tr>\n",
       "    <tr>\n",
       "      <th>September</th>\n",
       "      <td>553</td>\n",
       "      <td>533</td>\n",
       "      <td>1844</td>\n",
       "      <td>2872</td>\n",
       "      <td>531</td>\n",
       "      <td>547</td>\n",
       "      <td>1073</td>\n",
       "      <td>1082</td>\n",
       "      <td>515</td>\n",
       "    </tr>\n",
       "  </tbody>\n",
       "</table>\n",
       "</div>"
      ],
      "text/plain": [
       "Work       Architect  Developer  Doctor  Engineer  Entrepreneur  Lawyer  \\\n",
       "Month                                                                     \n",
       "December         578        543    1842      2861           537     539   \n",
       "November         566        526    1834      2842           532     578   \n",
       "October          564        553    1850      2807           524     551   \n",
       "September        553        533    1844      2872           531     547   \n",
       "\n",
       "Work       Manager  Scientist  Writer  \n",
       "Month                                  \n",
       "December      1050       1111     514  \n",
       "November      1054       1095     501  \n",
       "October       1089       1102     516  \n",
       "September     1073       1082     515  "
      ]
     },
     "execution_count": 40,
     "metadata": {},
     "output_type": "execute_result"
    }
   ],
   "source": [
    "pd.crosstab(p1['Month'],p1['Work'])"
   ]
  },
  {
   "cell_type": "code",
   "execution_count": 41,
   "id": "01e6fd2b",
   "metadata": {},
   "outputs": [],
   "source": [
    "\"\"\"I have created a funtion based on credit cards and work .In which you can cheke Age,Credit cards,Loan,Debt,\n",
    "Available Balance Any Base .\"\"\"\n",
    "\n",
    "# Check Non Loan And Loan Type Costumer With Credit Cards :\n",
    "\n",
    "def loan(p1):\n",
    "    column_name = input(\"Enter column name (Age, Credit Cards, Inhand Salary($), Loan($), Debt, Avai Balance($)): \")#.strip()\n",
    "    \n",
    "    print()\n",
    "    print(f\"Your Min Values Of {column_name} Is : \" , p1[column_name].min())\n",
    "    print(f\"Your Max Values Of {column_name} Is : \" , p1[column_name].max())\n",
    "    print()\n",
    "\n",
    "    \n",
    "    if column_name in p1.columns:\n",
    "        min_value = float(input(f\"Enter minimum value for {column_name}: \"))\n",
    "        max_value = float(input(f\"Enter maximum value for {column_name}: \"))\n",
    "    \n",
    "# Filter the dataset based on user input\n",
    "    filtered_df = p1[(p1[column_name] >= min_value) & (p1[column_name] <= max_value)]\n",
    "    print()\n",
    "    print('filtered_df',filtered_df.shape)\n",
    "# Plot the data\n",
    "    sns.distplot(filtered_df[p1['Loan($)'] == 0]['Credit Cards'], hist=False, \n",
    "             label=\"Credit Card with NON personal loan\")\n",
    "\n",
    "    sns.distplot(filtered_df[p1['Loan($)'] >= 1]['Credit Cards'], hist=False,\n",
    "             label=\"Credit Card with personal loan\")\n",
    "\n",
    "    plt.legend()\n",
    "    plt.show()"
   ]
  },
  {
   "cell_type": "code",
   "execution_count": 42,
   "id": "fe458682",
   "metadata": {},
   "outputs": [
    {
     "name": "stdout",
     "output_type": "stream",
     "text": [
      "Enter column name (Age, Credit Cards, Inhand Salary($), Loan($), Debt, Avai Balance($)): Credit Cards\n",
      "\n",
      "Your Min Values Of Credit Cards Is :  0\n",
      "Your Max Values Of Credit Cards Is :  10\n",
      "\n",
      "Enter minimum value for Credit Cards: 1\n",
      "Enter maximum value for Credit Cards: 5\n",
      "\n",
      "filtered_df (19192, 13)\n"
     ]
    },
    {
     "name": "stderr",
     "output_type": "stream",
     "text": [
      "C:\\Users\\Saurav\\AppData\\Local\\Temp\\ipykernel_13396\\3794488020.py:24: UserWarning: Boolean Series key will be reindexed to match DataFrame index.\n",
      "  sns.distplot(filtered_df[p1['Loan($)'] == 0]['Credit Cards'], hist=False,\n",
      "C:\\Users\\Saurav\\AppData\\Local\\Temp\\ipykernel_13396\\3794488020.py:24: UserWarning: \n",
      "\n",
      "`distplot` is a deprecated function and will be removed in seaborn v0.14.0.\n",
      "\n",
      "Please adapt your code to use either `displot` (a figure-level function with\n",
      "similar flexibility) or `kdeplot` (an axes-level function for kernel density plots).\n",
      "\n",
      "For a guide to updating your code to use the new functions, please see\n",
      "https://gist.github.com/mwaskom/de44147ed2974457ad6372750bbe5751\n",
      "\n",
      "  sns.distplot(filtered_df[p1['Loan($)'] == 0]['Credit Cards'], hist=False,\n",
      "C:\\Users\\Saurav\\anaconda3\\Lib\\site-packages\\seaborn\\_oldcore.py:1119: FutureWarning: use_inf_as_na option is deprecated and will be removed in a future version. Convert inf values to NaN before operating instead.\n",
      "  with pd.option_context('mode.use_inf_as_na', True):\n",
      "C:\\Users\\Saurav\\AppData\\Local\\Temp\\ipykernel_13396\\3794488020.py:27: UserWarning: Boolean Series key will be reindexed to match DataFrame index.\n",
      "  sns.distplot(filtered_df[p1['Loan($)'] >= 1]['Credit Cards'], hist=False,\n",
      "C:\\Users\\Saurav\\AppData\\Local\\Temp\\ipykernel_13396\\3794488020.py:27: UserWarning: \n",
      "\n",
      "`distplot` is a deprecated function and will be removed in seaborn v0.14.0.\n",
      "\n",
      "Please adapt your code to use either `displot` (a figure-level function with\n",
      "similar flexibility) or `kdeplot` (an axes-level function for kernel density plots).\n",
      "\n",
      "For a guide to updating your code to use the new functions, please see\n",
      "https://gist.github.com/mwaskom/de44147ed2974457ad6372750bbe5751\n",
      "\n",
      "  sns.distplot(filtered_df[p1['Loan($)'] >= 1]['Credit Cards'], hist=False,\n",
      "C:\\Users\\Saurav\\anaconda3\\Lib\\site-packages\\seaborn\\_oldcore.py:1119: FutureWarning: use_inf_as_na option is deprecated and will be removed in a future version. Convert inf values to NaN before operating instead.\n",
      "  with pd.option_context('mode.use_inf_as_na', True):\n"
     ]
    },
    {
     "data": {
      "image/png": "[encoded data removed]",
      "text/plain": [
       "<Figure size 640x480 with 1 Axes>"
      ]
     },
     "metadata": {},
     "output_type": "display_data"
    }
   ],
   "source": [
    "loan(p1)"
   ]
  },
  {
   "cell_type": "code",
   "execution_count": 43,
   "id": "7c01ecc6",
   "metadata": {},
   "outputs": [],
   "source": [
    "\"\"\"I have created a funtion based on credit cards and work . In which you can cheke Age, Credit Cards, Loan, Debt ,Avai Balance\n",
    "you can any base this point And You Also Check The Std, Mean , Min Value , First Quatile & Third Quatile Max Value.\"\"\" \n",
    "\n",
    "#Credit Cards With Work And You Also check the behaviour..\n",
    "\n",
    "def plot(p1):\n",
    "    column_name = input(\"Enter column name (Age, Credit Cards, Inhand Salary($), Loan($), Debt, Avai Balance($)): \")#.strip()\n",
    "    \n",
    "    print()\n",
    "    print(f\"Your Min Values Of {column_name} Is : \" , p1[column_name].min())\n",
    "    print(f\"Your Max Values Of {column_name} Is : \" , p1[column_name].max())\n",
    "    print()\n",
    "    \n",
    "    if column_name in p1.columns:\n",
    "        min_value = float(input(f\"Enter minimum value for {column_name}: \"))\n",
    "        max_value = float(input(f\"Enter maximum value for {column_name}: \"))\n",
    "\n",
    "        # Filter the DataFrame based on the user input\n",
    "        \n",
    "        filtered_df = p1[(p1[column_name] >= min_value) & (p1[column_name] <= max_value)]\n",
    "        \n",
    "        if not filtered_df.empty:\n",
    "            print(f\"\\nShowing information for column: {column_name}\\n\")\n",
    "            print(filtered_df[column_name].describe()) \n",
    "            print(\"\\nFirst 5 rows of the filtered column:\\n\", filtered_df[column_name].head())\n",
    "            \n",
    "            filtered_df['Behaviour'].value_counts().plot(kind='pie',autopct='%0.1f')\n",
    "            plt.title(f\"Bahaviour of {column_name} {min_value}-{max_value} in this Range...!\")\n",
    "            \n",
    "            plt.figure(figsize=(12, 6))\n",
    "            sns.barplot(x='Credit Cards', y='Work', data=filtered_df, ci=None)\n",
    "            plt.title(f'Credit Cards by Work for {column_name} {min_value}-{max_value}')\n",
    "            plt.xlabel('Number of Credit Cards')\n",
    "            plt.ylabel('Work')\n",
    "            plt.show()\n",
    "            \n",
    "        else:\n",
    "            print(f\"No data found for {column_name} between {min_value} and {max_value}.\")\n",
    "    else:\n",
    "        print(f\"Column '{column_name}' not found in the DataFrame.\")"
   ]
  },
  {
   "cell_type": "code",
   "execution_count": 44,
   "id": "e8aeef85",
   "metadata": {},
   "outputs": [
    {
     "name": "stdout",
     "output_type": "stream",
     "text": [
      "Enter column name (Age, Credit Cards, Inhand Salary($), Loan($), Debt, Avai Balance($)): Credit Cards\n",
      "\n",
      "Your Min Values Of Credit Cards Is :  0\n",
      "Your Max Values Of Credit Cards Is :  10\n",
      "\n",
      "Enter minimum value for Credit Cards: 1\n",
      "Enter maximum value for Credit Cards: 5\n",
      "\n",
      "Showing information for column: Credit Cards\n",
      "\n",
      "count    19192.000000\n",
      "mean         3.889902\n",
      "std          1.084045\n",
      "min          1.000000\n",
      "25%          3.000000\n",
      "50%          4.000000\n",
      "75%          5.000000\n",
      "max          5.000000\n",
      "Name: Credit Cards, dtype: float64\n",
      "\n",
      "First 5 rows of the filtered column:\n",
      " 0    4\n",
      "1    4\n",
      "2    4\n",
      "4    4\n",
      "5    4\n",
      "Name: Credit Cards, dtype: int32\n"
     ]
    },
    {
     "name": "stderr",
     "output_type": "stream",
     "text": [
      "C:\\Users\\Saurav\\AppData\\Local\\Temp\\ipykernel_13396\\3137381744.py:31: FutureWarning: \n",
      "\n",
      "The `ci` parameter is deprecated. Use `errorbar=None` for the same effect.\n",
      "\n",
      "  sns.barplot(x='Credit Cards', y='Work', data=filtered_df, ci=None)\n"
     ]
    },
    {
     "data": {
      "image/png": "[encoded data removed]",
      "text/plain": [
       "<Figure size 640x480 with 1 Axes>"
      ]
     },
     "metadata": {},
     "output_type": "display_data"
    },
    {
     "data": {
      "image/png": "[encoded data removed]",
      "text/plain": [
       "<Figure size 1200x600 with 1 Axes>"
      ]
     },
     "metadata": {},
     "output_type": "display_data"
    }
   ],
   "source": [
    "plot(p1)"
   ]
  },
  {
   "cell_type": "code",
   "execution_count": 45,
   "id": "383d4dd7",
   "metadata": {},
   "outputs": [],
   "source": [
    "def cards(Work,Credit_Cards):\n",
    "    data = p1[ (p1['Work'] == Work) & (p1['Credit Cards'] > Credit_Cards)]\n",
    "    print(f\"Number of {Credit_Cards} Credit Cards Are Using {Work}...! : \" , data.shape[0])"
   ]
  },
  {
   "cell_type": "code",
   "execution_count": 46,
   "id": "c7345cc7",
   "metadata": {},
   "outputs": [
    {
     "data": {
      "text/plain": [
       "array(['Scientist', 'Engineer', 'Manager', 'Entrepreneur', 'Developer',\n",
       "       'Lawyer', 'Doctor', 'Writer', 'Architect'], dtype=object)"
      ]
     },
     "execution_count": 46,
     "metadata": {},
     "output_type": "execute_result"
    }
   ],
   "source": [
    "p1['Work'].unique()"
   ]
  },
  {
   "cell_type": "code",
   "execution_count": 47,
   "id": "4cf7927a",
   "metadata": {},
   "outputs": [
    {
     "name": "stdout",
     "output_type": "stream",
     "text": [
      "Number of 5 Credit Cards Are Using Engineer...! :  5642\n"
     ]
    }
   ],
   "source": [
    "cards('Engineer',5)"
   ]
  },
  {
   "cell_type": "markdown",
   "id": "0cb9cf62",
   "metadata": {},
   "source": [
    "# Check The behaviour Based Credit Cards And Work...!"
   ]
  },
  {
   "cell_type": "code",
   "execution_count": 48,
   "id": "7a833457",
   "metadata": {},
   "outputs": [
    {
     "data": {
      "text/plain": [
       "<Axes: ylabel='count'>"
      ]
     },
     "execution_count": 48,
     "metadata": {},
     "output_type": "execute_result"
    },
    {
     "data": {
      "image/png": "[encoded data removed]",
      "text/plain": [
       "<Figure size 640x480 with 1 Axes>"
      ]
     },
     "metadata": {},
     "output_type": "display_data"
    }
   ],
   "source": [
    "p1['Behaviour'].value_counts().plot(kind='pie',autopct='%0.1f')"
   ]
  },
  {
   "cell_type": "code",
   "execution_count": 1,
   "id": "e0ba163b",
   "metadata": {},
   "outputs": [],
   "source": [
    "# Check The Behavior Base :\n",
    "\n",
    "def checking(p1):\n",
    "    column_name = input(\"Enter column name (Age, Credit Cards, Inhand Salary($), Loan($), Debt, Avai Balance($)): \")#.strip()\n",
    "    \n",
    "    print()\n",
    "    print(f\"Your Min Values Of {column_name} Is : \" , p1[column_name].min())\n",
    "    print(f\"Your Max Values Of {column_name} Is : \" , p1[column_name].max())\n",
    "    print()\n",
    "    \n",
    "    if column_name in p1.columns:\n",
    "        min_value = float(input(f\"Enter minimum value for {column_name}: \"))\n",
    "        max_value = float(input(f\"Enter maximum value for {column_name}: \"))\n",
    "\n",
    "        # Filter the DataFrame based on the user input\n",
    "    \n",
    "    p2 = p1[(p1[column_name] >= min_value) & (p1[column_name] <= max_value)]\n",
    "    Behavior = input(\"Enter Your Behavior (Good/Std/Bad) : \")\n",
    "    if Behavior == 'Good':\n",
    "        return p2[(p2['Behaviour'] == 'Good')][['Age', 'Behaviour', 'Work', 'Credit Cards']]\n",
    "    elif Behavior == 'Std':\n",
    "        return p2[(p2['Behaviour'] == 'Standard')][['Age', 'Behaviour', 'Work', 'Credit Cards']]\n",
    "    elif Behavior == 'Bad':\n",
    "        return p2[(p2['Behaviour'] == 'Bad')][['Age', 'Behaviour', 'Work', 'Credit Cards']]\n",
    "    else:\n",
    "        return \"Enter Curret input\"\n",
    "    \n",
    "    \n",
    "    \n",
    "    plt.figure(figsize=(12, 6))\n",
    "    sns.barplot(x='Work', y='Credit Cards', data=Behavior, ci=None)\n",
    "    plt.title(f'Credit Cards by Work for {Behavior} Behaviour (Age {age}-{age1})')\n",
    "    plt.xlabel('Work')\n",
    "    plt.ylabel('Number of Credit Cards')\n",
    "    plt.xticks(rotation=45)\n",
    "    plt.show()"
   ]
  },
  {
   "cell_type": "code",
   "execution_count": 2,
   "id": "4609d4ad",
   "metadata": {},
   "outputs": [
    {
     "ename": "NameError",
     "evalue": "name 'p1' is not defined",
     "output_type": "error",
     "traceback": [
      "\u001b[1;31m---------------------------------------------------------------------------\u001b[0m",
      "\u001b[1;31mNameError\u001b[0m                                 Traceback (most recent call last)",
      "Cell \u001b[1;32mIn[2], line 1\u001b[0m\n\u001b[1;32m----> 1\u001b[0m checking(p1)\n",
      "\u001b[1;31mNameError\u001b[0m: name 'p1' is not defined"
     ]
    }
   ],
   "source": [
    "checking(p1)"
   ]
  },
  {
   "cell_type": "markdown",
   "id": "f54790b3",
   "metadata": {},
   "source": [
    "# Project Work :\n",
    "\n",
    "1.Data Cleaning\n",
    "\n",
    "2.Handle Outliers\n",
    "\n",
    "3.Convert Categortical into Numerical\n",
    "\n",
    "4.Data Fit\n",
    "\n",
    "5.Exploratory Data Analysis (EDA):"
   ]
  },
  {
   "cell_type": "markdown",
   "id": "bd0c34ee",
   "metadata": {},
   "source": [
    "# Conclusion "
   ]
  },
  {
   "cell_type": "markdown",
   "id": "d87656f2",
   "metadata": {},
   "source": [
    "\n",
    "\n",
    "* 2000 $ is the minimum salary required to get a credit card,\n",
    "  Having a credit card helps to solve financial problems.\n",
    "\n",
    "\n",
    "\n",
    "* If i look at age in my Age Column names , I hope that 19493 means 39 % of people between the ages of 18 of 28 are using cards and 61 % are between the ages of 28 to 60 .\n",
    "\n",
    "\n",
    "* According to my dataset 37 % are Engineers and of them are 68 % are Good behievor. After that 26 % of 65 % Doctor's are Good ones. \n",
    "\n"
   ]
  }
 ],
 "metadata": {
  "kernelspec": {
   "display_name": "Python 3 (ipykernel)",
   "language": "python",
   "name": "python3"
  },
  "language_info": {
   "codemirror_mode": {
    "name": "ipython",
    "version": 3
   },
   "file_extension": ".py",
   "mimetype": "text/x-python",
   "name": "python",
   "nbconvert_exporter": "python",
   "pygments_lexer": "ipython3",
   "version": "3.11.7"
  }
 },
 "nbformat": 4,
 "nbformat_minor": 5
}
